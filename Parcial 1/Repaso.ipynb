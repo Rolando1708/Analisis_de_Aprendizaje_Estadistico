{
 "cells": [
  {
   "cell_type": "markdown",
   "metadata": {},
   "source": [
    "## Cross-Validation"
   ]
  },
  {
   "cell_type": "markdown",
   "metadata": {},
   "source": [
    "Dividir los datos en train y est, para crear un modelo únicamente con el train y comprobar esto con el test. Esta funciona para evitar overfitting, ya que el modelo no memoriza los datos"
   ]
  },
  {
   "cell_type": "markdown",
   "metadata": {},
   "source": [
    "## Teorema Frisch-Waugh-Love"
   ]
  },
  {
   "cell_type": "markdown",
   "metadata": {},
   "source": [
    "$$\\hat{y} = \\beta_0 + \\beta_1 x_1 + \\beta_2 x_2 + \\beta_3 x_3 $$\n",
    "\n",
    "Se hace una regresión lineal excluyendo a x1\n",
    "\n",
    "$$\\hat{y} = \\theta_0 + \\theta_1 x_2 + \\theta_2 x_3 $$\n",
    "Esta ecuación calcular y utilizando x_2 y x_3\n",
    "\n",
    "$$ y-\\hat{y} = residuales y $$\n",
    "Los residuales de y es todo lo que x_2 y x_3 no pudieron explicar de y \n",
    "\n",
    "$$ \\hat{x_1} = \\gamma_0 + \\gamma_2 x_2 + \\gamma_3 x_3 $$\n",
    "Esta ecuación hace una predicción de x_1 utilizando x_2 y x_3\n",
    "\n",
    "$$ x1-\\hat{x_1}= residuales x $$\n",
    "Los residuales de x_1 es todo lo que x_2 y x_3 no pudieron explicar de x_1\n",
    "\n",
    "$$ y-\\hat{y}= \\beta_1 (x_1-\\hat{x_1})$$\n",
    "Es el resultado de hacer una regesión lineal de los residuos de y contra los residuos de x_1 y la beta_1 tiene que ser igual a la misma beta_1 de tu ecuación original, lo que te da el efecto causal de como afecta x_1 a y\n",
    "\n",
    "\n"
   ]
  },
  {
   "cell_type": "markdown",
   "metadata": {},
   "source": [
    "## R2 Score"
   ]
  },
  {
   "cell_type": "markdown",
   "metadata": {},
   "source": [
    "El R2 es una metrica que te brinda un porcentaje de la variabilidad de tus datos de acuerdo a tu modelo, mientras se acerque 1 tiende a ser mejor el modelo"
   ]
  },
  {
   "cell_type": "markdown",
   "metadata": {},
   "source": [
    "## KNN"
   ]
  },
  {
   "cell_type": "markdown",
   "metadata": {},
   "source": [
    "Es un metodo de prediccion en donde hay un punto con el que se trabaja y se seleccionan un numero de vecinos, de los cuales se les saca el promedio de su valor para poder hacer una predicción"
   ]
  },
  {
   "cell_type": "markdown",
   "metadata": {},
   "source": [
    "## Descenso en Gradiente"
   ]
  },
  {
   "cell_type": "markdown",
   "metadata": {},
   "source": [
    "En la siguiente ecuación tenemos la función de perdida:\n",
    "\n",
    "$$ L = \\frac{1}{2} \\sum(\\hat{y}-y)^2 $$\n",
    "$$ \\hat{y}=\\beta_0 + \\beta_1 x_1 + ... + \\beta_n x_n $$\n",
    "\n",
    "Lo que buscas lograr es minimizar $ \\frac{1}{2} \\sum(\\hat{y}-y^2) $\n",
    "\n",
    "$$ \\beta_n = \\beta_{n-1} - \\alpha \\frac{\\partial L}{\\partial \\beta} $$"
   ]
  },
  {
   "cell_type": "markdown",
   "metadata": {},
   "source": [
    "Caclculando las betas y sustiuyendo las betas en $\\hat{y}$ logras minimizar L"
   ]
  },
  {
   "cell_type": "markdown",
   "metadata": {},
   "source": [
    "\n",
    "Ridge: Penaliza a los coeficientes con un mayor valor a la hora de hacerlos cuadraticos\n",
    "$$ \\frac{1}{2} \\sum(\\hat{y}-y)^2 + \\sum(\\beta^2)$$\n",
    "\n",
    "Lasso: Penaliza a todos los coeficientes por igual pero puede eliminar coeficientes que no tengan un peso importante en el modelo"
   ]
  },
  {
   "cell_type": "markdown",
   "metadata": {},
   "source": [
    "$$ \\frac{1}{2} \\sum(\\hat{y}-y)^2 + \\sum|\\beta|"
   ]
  },
  {
   "cell_type": "markdown",
   "metadata": {},
   "source": [
    " ## Categorizar variables"
   ]
  },
  {
   "cell_type": "markdown",
   "metadata": {},
   "source": [
    "Categorizar variables es dividir una variable en diferentes segmentos, esto puede servir para poder hacer dummies y agregarlo al modelo de forma numerica"
   ]
  },
  {
   "cell_type": "markdown",
   "metadata": {},
   "source": [
    "## Analisis Bivariado"
   ]
  },
  {
   "cell_type": "markdown",
   "metadata": {},
   "source": [
    "En analisis bivariado es una manera de ver la relación entre 2 variables, la independiente y la dependiente, graficamente esto ayuda para ver la relación de la dependiente con la independiente."
   ]
  }
 ],
 "metadata": {
  "kernelspec": {
   "display_name": "base",
   "language": "python",
   "name": "python3"
  },
  "language_info": {
   "name": "python",
   "version": "3.12.4"
  }
 },
 "nbformat": 4,
 "nbformat_minor": 2
}
