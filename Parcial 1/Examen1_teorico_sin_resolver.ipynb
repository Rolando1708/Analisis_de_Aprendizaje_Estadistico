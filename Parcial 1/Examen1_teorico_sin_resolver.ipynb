{
 "cells": [
  {
   "cell_type": "markdown",
   "metadata": {},
   "source": [
    "### Sección 1: Conceptos Teóricos (40 puntos)\n",
    "(5 pts) ¿Cuál es la diferencia entre una regresión lineal simple y una regresión lineal múltiple? Da un ejemplo de cada una.\n",
    "\n",
    "En la regresión lineal simple utilizas solamente una variable a la hora de hacer el modelo mientras que en una regresión lineal múltiple utilizas mas de una variable a la hora de hacer el modelo\n",
    "\n",
    "(5 pts) Explica el problema de overfitting y cómo podrías mitigarlo \n",
    "\n",
    "El problema de overfitting es cuando un modelo en lugar de generalizar datos los empieza a memorizar, se puede utilizar cross validation para evitar overfitting ya que al dividir los datos en train y test el modelo no estaria memorizando los datos.\n",
    "\n",
    "(5 pts) En regresión polinomial, ¿por qué es necesario realizar un análisis de validación cruzada antes de elegir el grado del polinomio?\n",
    "\n",
    "Es necesario realizar un análisis de validación cruzada a la hora de hacer regresión polinomial ya que de esta manera podemos evitar el overfitting, aunque es cierto que las regresiones polinomiales de grados altos se ajustan bastante bien a los modelos, estas suelen hacer una memorización de datos lo cual se quiere evitar.\n",
    "\n",
    "\n",
    "(5 pts) ¿Qué es una prueba de hipótesis en el contexto de regresión lineal? Explica cómo se interpreta el p-value de un coeficiente.\n",
    "\n",
    "Una prueba de hipótesis nos ayuda a poder ver que variables son significativas o no en una regresión lineal, si el valor de p-value de un coeficiente es mayor al 0.05 significa que la variable no es relevante para el modelo o que no es util para este, pero si su p-value es menor a 0.05 significa que si es signficante y util para este mismo.\n",
    "\n",
    "(5 pts) ¿Por qué convertir variables categóricas en dummies puede mejorar el desempeño de un modelo? ¿En qué casos podríamos usar una codificación diferente?\n",
    "\n",
    "Es bueno convertir las variables categoricas en dummies ya que de esta manera estas variables pueden ser incluidas en el modelo de manera numerica y al hacerlo nos puede dar un mejor modelo que sin estas, otra manera de la cual seria util convertir las variables categorias en dummies, es cuando variables numericas se convierten en categoricas utilizando bins, esto lo que hace es agrupar tus datos numericos en categorias como por ejemplo si tienes precio y tienes diferentes valores, los puedes categorizar en precio alto, medio o bajo, entonces al momento de hacer una predicción puedes revisar si esta pertenece a una de estas categorias.\n",
    "\n",
    "(5 pts) Explica como se obtienen los coeficientes de una regresión lineal con decenso en gradiente (tanto para lineal como polinomio), me tiene que quedar claro que le entiendes\n",
    "\n",
    "En el descenso en gradiente tenemos la siguiente funcion de perdida $ L = \\frac{1}{2} \\sum(\\hat{y}-y)^2 $ la cual queremos minimizar lo mas posible, donde $ \\hat{y}=\\beta_0 + \\beta_1 x_1 + ... + \\beta_n x_n $, para poder calcular las betas en $\\hat{y}$ lo que se tiene que hacer es derivar la función de perdida y agregar esta derivada en la siguiente ecuación $ \\beta_1 = \\beta_0 - \\alpha \\frac{\\partial L}{\\partial \\beta} $, una vez que tienes el valor de la $\\beta_1$ en este caso, se sustituye en tu $\\hat{y}$ con este nuevo coeficiente que conoces vuelves a derivar la función de perdida y la sustituyes para ahora calcular $\\beta_2$ y este proceso se repite hasta conseguir los valores del numero de coeficientes que tengas.\n",
    "\n",
    "(5 pts) Explica que es el teorema de Frisch-Waugh-Lovell\n",
    "\n",
    "El teorema de Frisch-Waugh-Lovell tenemos la formula $ \\hat{y} = \\beta_0 + \\beta_1 x_1 + \\beta_2 x_2 + \\beta_3 x_3 $ lo que hace es una regresión lineal excluyendo a x1 la cual seria $ \\hat{y} = \\theta_0 + \\theta_1 x_2 + \\theta_2 x_3 $ la cual predice los valores de $ \\hat{y} $ utilizando x2 y x3, cuando se hace la resta de los valores reales de y menos lo calculado en $ \\hat{y} $ te dan los residuales de y o todo lo que x2 y x3 no pudieron predecir de y, despues haces una prediccion de x1 utilizando x2 y x3 que sería la siguiente $\\hat{x_1} = \\gamma_0 + \\gamma_2 x_2 + \\gamma_3 x_3 $ si restas los valores reales de x1 menos los valores de $\\hat{x_1}$ tienes los residuales de x o todo lo que x2 y x3 no pudo predecir, despues haces una regresion lineal de los residuos de y contra los de x1, la $\\beta_1$ de esta ecuación tiene que ser la misma $\\beta_1$ de la ecuación original, lo que te da el efecto causal de como afecta x1 a y.\n",
    "\n",
    "(5 pts) Explica que es K-nearest neighboors\n",
    "\n",
    "El KNN es un metodo de predicción donde existe un punto con el que se va a trabajar y se seleccionan un numero de vecinos, de los cuales se saca el valor promedio de estos puntos vecinos para poder hacer una predicción.\n",
    "\n",
    "### Sección 2 (20 puntos)\n",
    "\n",
    "(10 pts) Dado el siguiente dataset de casas:\n",
    "\n",
    "```\n",
    "data = pd.DataFrame({\n",
    "    \"Tamaño_m2\": [50, 80, 120, 200, 150, 90, 175, 60, 220, 130],\n",
    "    \"Habitaciones\": [1, 2, 3, 4, 3, 2, 3, 1, 5, 3],\n",
    "    \"Precio_1000s\": [110, 170, 250, 400, 270, 200, 330, 190, 600, 380]  })\n",
    "````\n",
    "\n",
    "\n",
    "\n",
    "a) Ajusta una regresión lineal para predecir el precio en función del tamaño y número de habitaciones, dime el R2 y coeficientes.\n",
    "\n",
    "R2: 0.8661894650001757\n",
    "Intercepto: -0.0868822105113054\n",
    "Tamaño m2: 0.44694488\n",
    "Habitaciones: 86.33385558\n",
    "\n",
    "b) Imagina que el coeficiente de Tamaño es 2.5 y el coeficiente de Habitaciones es 20, ¿cómo interpretarías estos valores?  \n",
    "\n",
    "En este caso por cada metro cuadrado el precio de la casa aumentaria 2,500 y por cada habitacion el precio de la casa aumentaria 20,000\n",
    "\n",
    "(20 pts) Imagina que entrenas un modelo de regresión polinomial de grado 5 y obtienes un 𝑅2 de 0.98 en el conjunto de entrenamiento y 0.65 en el conjunto de prueba.\n",
    "\n",
    "- a) ¿Qué problema podrías estar enfrentando?\n",
    "\n",
    "El problema en este caso es que existiria overfitting de los datos, es decir que el modelo memorizo los datos que ya se tienen y al momento de ponerlos a prueba contra datos nuevos que el modelo no conoce, este ajuste es menor por mucho.\n",
    "\n",
    "- b) ¿Cómo lo solucionarías sin reducir demasiado la capacidad del modelo?\n",
    "\n",
    "Lo que se podría hacer en este caso es aplicar Ridge o Lasso al modelo para penalizar a los coeficientes que no son tan significativos en el modelo sin necesidad de reducir la capacidad de este."
   ]
  },
  {
   "cell_type": "code",
   "execution_count": 16,
   "metadata": {},
   "outputs": [],
   "source": [
    "import pandas as pd \n",
    "from sklearn import linear_model\n",
    "from sklearn.metrics import r2_score\n",
    "import matplotlib.pyplot as plt\n",
    "from sklearn.metrics import mean_squared_error\n",
    "from sklearn.preprocessing import PolynomialFeatures, StandardScaler\n",
    "from sklearn.neighbors import KNeighborsRegressor\n",
    "from sklearn.model_selection import train_test_split\n",
    "import numpy as np\n",
    "from scipy import stats\n",
    "import statsmodels.formula.api as smf"
   ]
  },
  {
   "cell_type": "code",
   "execution_count": 3,
   "metadata": {},
   "outputs": [],
   "source": [
    "data = pd.DataFrame({\n",
    "    \"Tamaño_m2\": [50, 80, 120, 200, 150, 90, 175, 60, 220, 130],\n",
    "    \"Habitaciones\": [1, 2, 3, 4, 3, 2, 3, 1, 5, 3],\n",
    "    \"Precio_1000s\": [110, 170, 250, 400, 270, 200, 330, 190, 600, 380]  })"
   ]
  },
  {
   "cell_type": "code",
   "execution_count": 5,
   "metadata": {},
   "outputs": [],
   "source": [
    "target = 'Precio_1000s'\n",
    "y = data[target]"
   ]
  },
  {
   "cell_type": "code",
   "execution_count": 14,
   "metadata": {},
   "outputs": [
    {
     "name": "stdout",
     "output_type": "stream",
     "text": [
      "0.8661894650001757\n",
      "-0.0868822105113054 [ 0.44694488 86.33385558]\n"
     ]
    }
   ],
   "source": [
    "X_multiple = data[['Tamaño_m2', 'Habitaciones']]\n",
    "model_multiple = linear_model.LinearRegression()\n",
    "model_multiple.fit(X_multiple, y)\n",
    "predicciones_multiple = model_multiple.predict(X_multiple)\n",
    "print(r2_score(y_true = y, y_pred = predicciones_multiple))\n",
    "print(model_multiple.intercept_,model_multiple.coef_)"
   ]
  },
  {
   "cell_type": "code",
   "execution_count": null,
   "metadata": {},
   "outputs": [],
   "source": []
  },
  {
   "cell_type": "markdown",
   "metadata": {},
   "source": [
    "### Sección 3: Implementación de Código (40 puntos)\n"
   ]
  },
  {
   "cell_type": "markdown",
   "metadata": {},
   "source": [
    "\n",
    "1- En el dataset Advertising.csv estan las ventas de una empresa y hay 3 canales de distribuición:\n",
    "    \n",
    "- radio\n",
    "- Televisión\n",
    "- Periodico\n",
    "\n",
    "\n",
    "La empresa quiere simplificar su operción y eliminar aquellos canales que no traen ventas.\n",
    "\n",
    "Dime que canal o canales no sirven con una prueba de hipotesis y una regresión\n",
    "\n",
    "\n",
    "    "
   ]
  },
  {
   "cell_type": "code",
   "execution_count": 12,
   "metadata": {},
   "outputs": [],
   "source": [
    "df = pd.read_csv('Advertising.csv')"
   ]
  },
  {
   "cell_type": "code",
   "execution_count": 13,
   "metadata": {},
   "outputs": [
    {
     "data": {
      "text/html": [
       "<div>\n",
       "<style scoped>\n",
       "    .dataframe tbody tr th:only-of-type {\n",
       "        vertical-align: middle;\n",
       "    }\n",
       "\n",
       "    .dataframe tbody tr th {\n",
       "        vertical-align: top;\n",
       "    }\n",
       "\n",
       "    .dataframe thead th {\n",
       "        text-align: right;\n",
       "    }\n",
       "</style>\n",
       "<table border=\"1\" class=\"dataframe\">\n",
       "  <thead>\n",
       "    <tr style=\"text-align: right;\">\n",
       "      <th></th>\n",
       "      <th>Unnamed: 0</th>\n",
       "      <th>TV</th>\n",
       "      <th>radio</th>\n",
       "      <th>newspaper</th>\n",
       "      <th>sales</th>\n",
       "    </tr>\n",
       "  </thead>\n",
       "  <tbody>\n",
       "    <tr>\n",
       "      <th>0</th>\n",
       "      <td>1</td>\n",
       "      <td>230.1</td>\n",
       "      <td>37.8</td>\n",
       "      <td>69.2</td>\n",
       "      <td>22.1</td>\n",
       "    </tr>\n",
       "    <tr>\n",
       "      <th>1</th>\n",
       "      <td>2</td>\n",
       "      <td>44.5</td>\n",
       "      <td>39.3</td>\n",
       "      <td>45.1</td>\n",
       "      <td>10.4</td>\n",
       "    </tr>\n",
       "    <tr>\n",
       "      <th>2</th>\n",
       "      <td>3</td>\n",
       "      <td>17.2</td>\n",
       "      <td>45.9</td>\n",
       "      <td>69.3</td>\n",
       "      <td>9.3</td>\n",
       "    </tr>\n",
       "    <tr>\n",
       "      <th>3</th>\n",
       "      <td>4</td>\n",
       "      <td>151.5</td>\n",
       "      <td>41.3</td>\n",
       "      <td>58.5</td>\n",
       "      <td>18.5</td>\n",
       "    </tr>\n",
       "    <tr>\n",
       "      <th>4</th>\n",
       "      <td>5</td>\n",
       "      <td>180.8</td>\n",
       "      <td>10.8</td>\n",
       "      <td>58.4</td>\n",
       "      <td>12.9</td>\n",
       "    </tr>\n",
       "  </tbody>\n",
       "</table>\n",
       "</div>"
      ],
      "text/plain": [
       "   Unnamed: 0     TV  radio  newspaper  sales\n",
       "0           1  230.1   37.8       69.2   22.1\n",
       "1           2   44.5   39.3       45.1   10.4\n",
       "2           3   17.2   45.9       69.3    9.3\n",
       "3           4  151.5   41.3       58.5   18.5\n",
       "4           5  180.8   10.8       58.4   12.9"
      ]
     },
     "execution_count": 13,
     "metadata": {},
     "output_type": "execute_result"
    }
   ],
   "source": [
    "df.head()"
   ]
  },
  {
   "cell_type": "code",
   "execution_count": 19,
   "metadata": {},
   "outputs": [
    {
     "data": {
      "text/html": [
       "<table class=\"simpletable\">\n",
       "<tr>\n",
       "      <td></td>         <th>coef</th>     <th>std err</th>      <th>t</th>      <th>P>|t|</th>  <th>[0.025</th>    <th>0.975]</th>  \n",
       "</tr>\n",
       "<tr>\n",
       "  <th>Intercept</th> <td>    2.9389</td> <td>    0.312</td> <td>    9.422</td> <td> 0.000</td> <td>    2.324</td> <td>    3.554</td>\n",
       "</tr>\n",
       "<tr>\n",
       "  <th>radio</th>     <td>    0.1885</td> <td>    0.009</td> <td>   21.893</td> <td> 0.000</td> <td>    0.172</td> <td>    0.206</td>\n",
       "</tr>\n",
       "<tr>\n",
       "  <th>newspaper</th> <td>   -0.0010</td> <td>    0.006</td> <td>   -0.177</td> <td> 0.860</td> <td>   -0.013</td> <td>    0.011</td>\n",
       "</tr>\n",
       "<tr>\n",
       "  <th>TV</th>        <td>    0.0458</td> <td>    0.001</td> <td>   32.809</td> <td> 0.000</td> <td>    0.043</td> <td>    0.049</td>\n",
       "</tr>\n",
       "</table>"
      ],
      "text/latex": [
       "\\begin{center}\n",
       "\\begin{tabular}{lcccccc}\n",
       "\\toprule\n",
       "                   & \\textbf{coef} & \\textbf{std err} & \\textbf{t} & \\textbf{P$> |$t$|$} & \\textbf{[0.025} & \\textbf{0.975]}  \\\\\n",
       "\\midrule\n",
       "\\textbf{Intercept} &       2.9389  &        0.312     &     9.422  &         0.000        &        2.324    &        3.554     \\\\\n",
       "\\textbf{radio}     &       0.1885  &        0.009     &    21.893  &         0.000        &        0.172    &        0.206     \\\\\n",
       "\\textbf{newspaper} &      -0.0010  &        0.006     &    -0.177  &         0.860        &       -0.013    &        0.011     \\\\\n",
       "\\textbf{TV}        &       0.0458  &        0.001     &    32.809  &         0.000        &        0.043    &        0.049     \\\\\n",
       "\\bottomrule\n",
       "\\end{tabular}\n",
       "\\end{center}"
      ],
      "text/plain": [
       "<class 'statsmodels.iolib.table.SimpleTable'>"
      ]
     },
     "execution_count": 19,
     "metadata": {},
     "output_type": "execute_result"
    }
   ],
   "source": [
    "result = smf.ols('sales ~ radio + newspaper + TV', data=df).fit()\n",
    "result.summary().tables[1]"
   ]
  },
  {
   "cell_type": "markdown",
   "metadata": {},
   "source": [
    "Lo que podemos notar a la hora de hacer este modelo es que el p-value de newspaper es bastante alto con 0.860 lo que nos dice que no es significativo para el modelo por lo que este se elimina, analizando radio y TV notamos que ambos tienen un p-value menor a 0.05 y que sus coeficientes son positivos lo que nos indica que tienen un efecto positivo a las ventas de la compañia, como notamos radio tiene un coeficiente mayor a TV por lo que se podría recomendar invertir mas en el advertising de radio que al de TV aunque los tengan un impacto positivo en las ventas."
   ]
  },
  {
   "cell_type": "markdown",
   "metadata": {},
   "source": []
  }
 ],
 "metadata": {
  "kernelspec": {
   "display_name": "base",
   "language": "python",
   "name": "python3"
  },
  "language_info": {
   "codemirror_mode": {
    "name": "ipython",
    "version": 3
   },
   "file_extension": ".py",
   "mimetype": "text/x-python",
   "name": "python",
   "nbconvert_exporter": "python",
   "pygments_lexer": "ipython3",
   "version": "3.12.4"
  }
 },
 "nbformat": 4,
 "nbformat_minor": 4
}
