{
 "cells": [
  {
   "cell_type": "code",
   "execution_count": 17,
   "metadata": {},
   "outputs": [],
   "source": [
    "import pandas as pd\n",
    "from sklearn.neighbors import KNeighborsRegressor\n",
    "from sklearn.model_selection import train_test_split\n",
    "from sklearn.preprocessing import StandardScaler\n",
    "import numpy as np\n",
    "from sklearn.metrics import r2_score\n",
    "import matplotlib.pyplot as plt\n"
   ]
  },
  {
   "cell_type": "markdown",
   "metadata": {},
   "source": [
    "KNN (K-Nearest Neighbors) es un algoritmo de aprendizaje supervisado usado para clasificación y regresión. Su principio es simple: predice un valor o categoría basado en los K vecinos más cercanos en el espacio de características.\n",
    "\n",
    "\n",
    "1- Se elige un número  K de vecinos (hiperparámetro).\n",
    "\n",
    "2- Para una nueva observación, se calculan las distancias con todos los datos de entrenamiento.\n",
    "\n",
    "3- Se seleccionan los  K vecinos más cercanos. \n",
    "\n",
    "4- Se predice el promedio de los valores de los K vecinos.\n",
    "\n",
    "\n",
    "## Para determinar los vecinos más cercanos\n",
    "\n",
    "### Definición General\n",
    "La distancia euclidiana entre dos puntos \\( A \\) y \\( B \\) en un espacio \\( n \\)-dimensional se define como:\n",
    "\n",
    "$$\n",
    "d(A, B) = \\sqrt{\\sum_{i=1}^{n} (x_i^A - x_i^B)^2}\n",
    "$$\n",
    "\n",
    "#### Casos Específicos\n",
    "\n",
    "### Caso en Dos Dimensiones\n",
    "En un espacio bidimensional (\\( n = 2 \\)):\n",
    "\n",
    "$$\n",
    "d(A, B) = \\sqrt{(x_2 - x_1)^2 + (y_2 - y_1)^2}\n",
    "$$\n",
    "\n",
    "### Caso en Tres Dimensiones\n",
    "En un espacio tridimensional (\\( n = 3 \\)):\n",
    "\n",
    "$$\n",
    "d(A, B) = \\sqrt{(x_2 - x_1)^2 + (y_2 - y_1)^2 + (z_2 - z_1)^2}\n",
    "$$\n",
    "\n",
    "**Ejemplo Numérico:**\n",
    "Si tenemos los puntos \\( A(1,2,3) \\) y \\( B(4,6,8) \\), la distancia euclidiana es:\n",
    "\n",
    "$$\n",
    "d(A, B) = \\sqrt{(4 - 1)^2 + (6 - 2)^2 + (8 - 3)^2} = \\sqrt{9 + 16 + 25} = \\sqrt{50} \\approx 7.07\n",
    "$$\n",
    "\n"
   ]
  },
  {
   "cell_type": "code",
   "execution_count": 23,
   "metadata": {},
   "outputs": [],
   "source": [
    "### Ejemplo distancie uclidiana"
   ]
  },
  {
   "cell_type": "code",
   "execution_count": 3,
   "metadata": {},
   "outputs": [],
   "source": [
    "df = pd.read_csv('housing.csv')\n",
    "df = pd.get_dummies(df)\n",
    "df['total_bedrooms'] = df['total_bedrooms'].fillna(df.total_bedrooms.mean())"
   ]
  },
  {
   "cell_type": "code",
   "execution_count": 24,
   "metadata": {},
   "outputs": [],
   "source": []
  },
  {
   "cell_type": "code",
   "execution_count": 20,
   "metadata": {},
   "outputs": [],
   "source": [
    "### Crea el modelo KNN y realiza cross validation "
   ]
  },
  {
   "cell_type": "code",
   "execution_count": 14,
   "metadata": {},
   "outputs": [
    {
     "data": {
      "text/plain": [
       "0.7091365059773751"
      ]
     },
     "execution_count": 14,
     "metadata": {},
     "output_type": "execute_result"
    }
   ],
   "source": [
    "X = df.drop('median_house_value', axis=1)\n",
    "y = df['median_house_value']\n",
    "\n",
    "X_train, X_test, y_train, y_test = train_test_split(X, y, test_size=0.3, random_state=42)\n",
    "\n",
    "\n",
    "# Normalizar las características (KNN es sensible a escalas)\n",
    "scaler = StandardScaler()\n",
    "X_train_scaled = scaler.fit_transform(X_train)\n",
    "X_test_scaled = scaler.transform(X_test)\n",
    "\n",
    "model = KNeighborsRegressor(n_neighbors=5).fit(X_train_scaled, y_train)\n",
    "predicciones = model.predict(X_test_scaled)\n",
    "\n",
    "r2_score(y_pred=predicciones, y_true=y_test)\n"
   ]
  },
  {
   "cell_type": "code",
   "execution_count": 24,
   "metadata": {},
   "outputs": [],
   "source": [
    "nn = []\n",
    "r2 = []\n",
    "r2_train = []\n",
    "for i in range(1,60):\n",
    "    model = KNeighborsRegressor(n_neighbors=i).fit(X_train_scaled, y_train)\n",
    "    predicciones = model.predict(X_test_scaled)\n",
    "    r2.append(r2_score(y_pred=predicciones, y_true=y_test))\n",
    "    nn.append(i)\n",
    "    predicciones_train = model.predict(X_train_scaled)\n",
    "    r2_train.append(r2_score(y_pred=predicciones_train, y_true=y_train))"
   ]
  },
  {
   "cell_type": "code",
   "execution_count": 22,
   "metadata": {},
   "outputs": [
    {
     "data": {
      "text/plain": [
       "[0.5667077332621469,\n",
       " 0.6606855797281009,\n",
       " 0.6864309164454395,\n",
       " 0.7010527738890389,\n",
       " 0.7091365059773751,\n",
       " 0.7125327123001688,\n",
       " 0.7156054611911804,\n",
       " 0.7170916199361073,\n",
       " 0.7184498871758564,\n",
       " 0.7199365884909582,\n",
       " 0.7206581152885447,\n",
       " 0.7209589636134216,\n",
       " 0.7207538922548814,\n",
       " 0.7227809597448813,\n",
       " 0.7220302364744879,\n",
       " 0.7201794585317394,\n",
       " 0.7190814449058527,\n",
       " 0.7184416614511673,\n",
       " 0.7183386858743921,\n",
       " 0.7176532799828719,\n",
       " 0.7169690921294608,\n",
       " 0.7164675733960086,\n",
       " 0.7162963701886905,\n",
       " 0.715542403482323,\n",
       " 0.7146954882761839,\n",
       " 0.7139042597339349,\n",
       " 0.7134636407647421,\n",
       " 0.7136071932669108,\n",
       " 0.7127153391650016,\n",
       " 0.7121407634353798,\n",
       " 0.7114761525403845,\n",
       " 0.711299185211004,\n",
       " 0.7105097159403526,\n",
       " 0.7099209551405845,\n",
       " 0.7090161196113928,\n",
       " 0.7084662148409349,\n",
       " 0.7071096251005465,\n",
       " 0.7065770680783021,\n",
       " 0.7057817408294316,\n",
       " 0.7051791372777472,\n",
       " 0.7042528914991104,\n",
       " 0.7032855543305657,\n",
       " 0.7026959174428482,\n",
       " 0.7016414993536674,\n",
       " 0.700477876782517,\n",
       " 0.6997771295759805,\n",
       " 0.6991841593624555,\n",
       " 0.6985074799571214,\n",
       " 0.6978047578152238,\n",
       " 0.6970761403913889,\n",
       " 0.6965843964376368,\n",
       " 0.6959935966372,\n",
       " 0.6954175584449066,\n",
       " 0.6946828896702023,\n",
       " 0.6936801085761571,\n",
       " 0.6927969369000393,\n",
       " 0.6919401449316975,\n",
       " 0.6910182201537236,\n",
       " 0.6900901955052214]"
      ]
     },
     "execution_count": 22,
     "metadata": {},
     "output_type": "execute_result"
    }
   ],
   "source": [
    "r2"
   ]
  },
  {
   "cell_type": "code",
   "execution_count": 28,
   "metadata": {},
   "outputs": [
    {
     "data": {
      "text/plain": [
       "<matplotlib.legend.Legend at 0x173e2b1d0>"
      ]
     },
     "execution_count": 28,
     "metadata": {},
     "output_type": "execute_result"
    },
    {
     "data": {
      "image/png": "[encoded data removed]",
      "text/plain": [
       "<Figure size 640x480 with 1 Axes>"
      ]
     },
     "metadata": {},
     "output_type": "display_data"
    }
   ],
   "source": [
    "## Grafica los resultados\n",
    "resultados = pd.DataFrame({\n",
    "    'nn': nn,\n",
    "    'r2': r2,\n",
    "    'r2_train': r2_train\n",
    "})\n",
    "\n",
    "plt.plot(resultados.nn, resultados.r2, marker = 'o', label = \"Real\")\n",
    "plt.plot(resultados.nn, resultados.r2_train, marker = 'o', label = \"Entrenamiento\")\n",
    "plt.legend()"
   ]
  },
  {
   "cell_type": "code",
   "execution_count": null,
   "metadata": {},
   "outputs": [],
   "source": []
  }
 ],
 "metadata": {
  "kernelspec": {
   "display_name": "base",
   "language": "python",
   "name": "python3"
  },
  "language_info": {
   "codemirror_mode": {
    "name": "ipython",
    "version": 3
   },
   "file_extension": ".py",
   "mimetype": "text/x-python",
   "name": "python",
   "nbconvert_exporter": "python",
   "pygments_lexer": "ipython3",
   "version": "3.12.4"
  }
 },
 "nbformat": 4,
 "nbformat_minor": 4
}
