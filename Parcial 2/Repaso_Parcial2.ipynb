{
 "cells": [
  {
   "cell_type": "markdown",
   "metadata": {},
   "source": [
    "#  Concepto Odds"
   ]
  },
  {
   "cell_type": "markdown",
   "metadata": {},
   "source": [
    "Odds: Mi equipo gana 1 a 4\n",
    "\n",
    "Eso significa que odds = 1/4\n",
    "\n",
    "Probabilidad de ganar \n",
    "$$\\frac{1}{1+4} = 0.2 $$\n",
    "\n",
    "Probabilidad de perder es\n",
    "$$1-\\frac{1}{1+4} = 0.8 $$\n",
    "\n",
    "Definicion: La probabilidad de ganar entre la probabilidad de perder\n",
    "\n",
    "$$ odds = \\frac{p}{1-p} $$"
   ]
  },
  {
   "cell_type": "markdown",
   "metadata": {},
   "source": [
    "# Log odds"
   ]
  },
  {
   "cell_type": "markdown",
   "metadata": {},
   "source": [
    "$$ ln(odds)=ln(\\frac{p}{1-p}) $$"
   ]
  },
  {
   "cell_type": "markdown",
   "metadata": {},
   "source": [
    "Log odds sirve para poder estabilizar los odds y que se encuentren en un rango mas pequeño\n",
    "\n",
    "Los coeficientes de una regresión logistica se multiplican por X como en la regresion lineal.\n",
    "\n",
    "z ( log odds) es: \n",
    "$$ z = \\beta^{T}X $$\n",
    "\n",
    "p es:\n",
    "$$ p = \\frac{1}{1 + e^{-z}} $$ \n",
    "\n",
    "p es la probabilodad de que se clasifique como 1. Si es mayor a 0.5 se considera 1 y si es menor se considera 0"
   ]
  },
  {
   "cell_type": "markdown",
   "metadata": {},
   "source": [
    "# Regresión Logística"
   ]
  },
  {
   "cell_type": "markdown",
   "metadata": {},
   "source": [
    "Es un modelo que se utiliza para predecir la probabilidad de ocurrencia de un evento binario. Se utilizan para problemas donde existen dos clases, si $ p > 0.5$ se clasifica como 1, si $ p < 0.5$ se clasifica como 0."
   ]
  },
  {
   "cell_type": "markdown",
   "metadata": {},
   "source": [
    "# Softmax"
   ]
  },
  {
   "cell_type": "markdown",
   "metadata": {},
   "source": [
    "Se utiliza de manera similar a la regresión logistica, pero se utiliza para casos en los que existen mas de dos clases.\n",
    "\n",
    "La función Softmax convierte los logits (salidas de la función lineal) en probabilidades:\n",
    "\n",
    "$$\n",
    "P(y = k | \\mathbf{x}) = \\frac{\\exp(\\mathbf{w}_k \\cdot \\mathbf{x} + b_k)}{\\sum_{j=1}^{K} \\exp(\\mathbf{w}_j \\cdot \\mathbf{x} + b_j)}\n",
    "$$\n",
    "\n",
    "#### **Ejemplo Numérico**\n",
    "Si tenemos 3 clases y logits calculados como:\n",
    "$$\n",
    "z_1 = 2.0, \\quad z_2 = 1.0, \\quad z_3 = -1.0\n",
    "$$\n",
    "Aplicamos Softmax:\n",
    "$$\n",
    "P(y=1) = \\frac{e^2}{e^2 + e^1 + e^{-1}} = 0.72\n",
    "$$\n",
    "$$\n",
    "P(y=2) = \\frac{e^1}{e^2 + e^1 + e^{-1}} = 0.26\n",
    "$$\n",
    "$$\n",
    "P(y=3) = \\frac{e^{-1}}{e^2 + e^1 + e^{-1}} = 0.04\n",
    "$$\n",
    "Esto indica que la clase 1 es la más probable."
   ]
  },
  {
   "cell_type": "markdown",
   "metadata": {},
   "source": [
    "# Redes Neuronales"
   ]
  },
  {
   "cell_type": "markdown",
   "metadata": {},
   "source": []
  }
 ],
 "metadata": {
  "language_info": {
   "name": "python"
  }
 },
 "nbformat": 4,
 "nbformat_minor": 2
}
