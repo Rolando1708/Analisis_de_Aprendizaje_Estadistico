{
 "cells": [
  {
   "cell_type": "code",
   "execution_count": 2,
   "id": "7b21d0a4-a98f-46a2-9995-3397b95dc0e9",
   "metadata": {},
   "outputs": [],
   "source": [
    "from sklearn.preprocessing import StandardScaler\n",
    "from sklearn.pipeline import Pipeline\n",
    "from sklearn.decomposition import PCA\n",
    "import matplotlib.pyplot as plt\n",
    "import pandas as pd\n",
    "\n",
    "# Cargar el archivo CSV subido\n",
    "df = pd.read_csv(\"Data/housing.csv\")\n",
    "#del df['ocean_proximity']\n",
    "df = pd.get_dummies(df)\n",
    "df = df.fillna(df.mean())\n",
    "\n",
    "X = df.drop(['median_house_value'], axis=1)\n",
    "y = df['median_house_value']\n",
    "\n",
    "nombres_limpios = [col.replace('<', '').replace('>', '').replace('[', '').replace(']', '') for col in X.columns]\n",
    "X.columns = nombres_limpios\n"
   ]
  },
  {
   "cell_type": "markdown",
   "id": "a283029c-50fc-4dde-b2a5-e7dc65c79905",
   "metadata": {},
   "source": [
    "### Escalar datos y hacer PCA"
   ]
  },
  {
   "cell_type": "code",
   "execution_count": 3,
   "id": "4f7bee90-5f69-4ab1-b16f-eae357927515",
   "metadata": {},
   "outputs": [
    {
     "data": {
      "text/html": [
       "<style>#sk-container-id-1 {color: black;background-color: white;}#sk-container-id-1 pre{padding: 0;}#sk-container-id-1 div.sk-toggleable {background-color: white;}#sk-container-id-1 label.sk-toggleable__label {cursor: pointer;display: block;width: 100%;margin-bottom: 0;padding: 0.3em;box-sizing: border-box;text-align: center;}#sk-container-id-1 label.sk-toggleable__label-arrow:before {content: \"▸\";float: left;margin-right: 0.25em;color: #696969;}#sk-container-id-1 label.sk-toggleable__label-arrow:hover:before {color: black;}#sk-container-id-1 div.sk-estimator:hover label.sk-toggleable__label-arrow:before {color: black;}#sk-container-id-1 div.sk-toggleable__content {max-height: 0;max-width: 0;overflow: hidden;text-align: left;background-color: #f0f8ff;}#sk-container-id-1 div.sk-toggleable__content pre {margin: 0.2em;color: black;border-radius: 0.25em;background-color: #f0f8ff;}#sk-container-id-1 input.sk-toggleable__control:checked~div.sk-toggleable__content {max-height: 200px;max-width: 100%;overflow: auto;}#sk-container-id-1 input.sk-toggleable__control:checked~label.sk-toggleable__label-arrow:before {content: \"▾\";}#sk-container-id-1 div.sk-estimator input.sk-toggleable__control:checked~label.sk-toggleable__label {background-color: #d4ebff;}#sk-container-id-1 div.sk-label input.sk-toggleable__control:checked~label.sk-toggleable__label {background-color: #d4ebff;}#sk-container-id-1 input.sk-hidden--visually {border: 0;clip: rect(1px 1px 1px 1px);clip: rect(1px, 1px, 1px, 1px);height: 1px;margin: -1px;overflow: hidden;padding: 0;position: absolute;width: 1px;}#sk-container-id-1 div.sk-estimator {font-family: monospace;background-color: #f0f8ff;border: 1px dotted black;border-radius: 0.25em;box-sizing: border-box;margin-bottom: 0.5em;}#sk-container-id-1 div.sk-estimator:hover {background-color: #d4ebff;}#sk-container-id-1 div.sk-parallel-item::after {content: \"\";width: 100%;border-bottom: 1px solid gray;flex-grow: 1;}#sk-container-id-1 div.sk-label:hover label.sk-toggleable__label {background-color: #d4ebff;}#sk-container-id-1 div.sk-serial::before {content: \"\";position: absolute;border-left: 1px solid gray;box-sizing: border-box;top: 0;bottom: 0;left: 50%;z-index: 0;}#sk-container-id-1 div.sk-serial {display: flex;flex-direction: column;align-items: center;background-color: white;padding-right: 0.2em;padding-left: 0.2em;position: relative;}#sk-container-id-1 div.sk-item {position: relative;z-index: 1;}#sk-container-id-1 div.sk-parallel {display: flex;align-items: stretch;justify-content: center;background-color: white;position: relative;}#sk-container-id-1 div.sk-item::before, #sk-container-id-1 div.sk-parallel-item::before {content: \"\";position: absolute;border-left: 1px solid gray;box-sizing: border-box;top: 0;bottom: 0;left: 50%;z-index: -1;}#sk-container-id-1 div.sk-parallel-item {display: flex;flex-direction: column;z-index: 1;position: relative;background-color: white;}#sk-container-id-1 div.sk-parallel-item:first-child::after {align-self: flex-end;width: 50%;}#sk-container-id-1 div.sk-parallel-item:last-child::after {align-self: flex-start;width: 50%;}#sk-container-id-1 div.sk-parallel-item:only-child::after {width: 0;}#sk-container-id-1 div.sk-dashed-wrapped {border: 1px dashed gray;margin: 0 0.4em 0.5em 0.4em;box-sizing: border-box;padding-bottom: 0.4em;background-color: white;}#sk-container-id-1 div.sk-label label {font-family: monospace;font-weight: bold;display: inline-block;line-height: 1.2em;}#sk-container-id-1 div.sk-label-container {text-align: center;}#sk-container-id-1 div.sk-container {/* jupyter's `normalize.less` sets `[hidden] { display: none; }` but bootstrap.min.css set `[hidden] { display: none !important; }` so we also need the `!important` here to be able to override the default hidden behavior on the sphinx rendered scikit-learn.org. See: https://github.com/scikit-learn/scikit-learn/issues/21755 */display: inline-block !important;position: relative;}#sk-container-id-1 div.sk-text-repr-fallback {display: none;}</style><div id=\"sk-container-id-1\" class=\"sk-top-container\"><div class=\"sk-text-repr-fallback\"><pre>Pipeline(steps=[(&#x27;scaler&#x27;, StandardScaler()), (&#x27;pca&#x27;, PCA())])</pre><b>In a Jupyter environment, please rerun this cell to show the HTML representation or trust the notebook. <br />On GitHub, the HTML representation is unable to render, please try loading this page with nbviewer.org.</b></div><div class=\"sk-container\" hidden><div class=\"sk-item sk-dashed-wrapped\"><div class=\"sk-label-container\"><div class=\"sk-label sk-toggleable\"><input class=\"sk-toggleable__control sk-hidden--visually\" id=\"sk-estimator-id-1\" type=\"checkbox\" ><label for=\"sk-estimator-id-1\" class=\"sk-toggleable__label sk-toggleable__label-arrow\">Pipeline</label><div class=\"sk-toggleable__content\"><pre>Pipeline(steps=[(&#x27;scaler&#x27;, StandardScaler()), (&#x27;pca&#x27;, PCA())])</pre></div></div></div><div class=\"sk-serial\"><div class=\"sk-item\"><div class=\"sk-estimator sk-toggleable\"><input class=\"sk-toggleable__control sk-hidden--visually\" id=\"sk-estimator-id-2\" type=\"checkbox\" ><label for=\"sk-estimator-id-2\" class=\"sk-toggleable__label sk-toggleable__label-arrow\">StandardScaler</label><div class=\"sk-toggleable__content\"><pre>StandardScaler()</pre></div></div></div><div class=\"sk-item\"><div class=\"sk-estimator sk-toggleable\"><input class=\"sk-toggleable__control sk-hidden--visually\" id=\"sk-estimator-id-3\" type=\"checkbox\" ><label for=\"sk-estimator-id-3\" class=\"sk-toggleable__label sk-toggleable__label-arrow\">PCA</label><div class=\"sk-toggleable__content\"><pre>PCA()</pre></div></div></div></div></div></div></div>"
      ],
      "text/plain": [
       "Pipeline(steps=[('scaler', StandardScaler()), ('pca', PCA())])"
      ]
     },
     "execution_count": 3,
     "metadata": {},
     "output_type": "execute_result"
    }
   ],
   "source": [
    "pipeline = Pipeline([\n",
    "    ('scaler', StandardScaler()),\n",
    "    ('pca', PCA())\n",
    "])\n",
    "\n",
    "pipeline.fit(X)"
   ]
  },
  {
   "cell_type": "code",
   "execution_count": null,
   "id": "20a19b6b-7bf7-4302-8f4f-1ddd532b061a",
   "metadata": {},
   "outputs": [],
   "source": []
  },
  {
   "cell_type": "code",
   "execution_count": 4,
   "id": "7657a93f-a785-40b0-a589-088225291cdd",
   "metadata": {},
   "outputs": [],
   "source": [
    "# Obten el objeto de PCA\n",
    "objeto_pca = pipeline.named_steps['pca']"
   ]
  },
  {
   "cell_type": "code",
   "execution_count": 6,
   "id": "44daa282",
   "metadata": {},
   "outputs": [
    {
     "data": {
      "text/plain": [
       "13"
      ]
     },
     "execution_count": 6,
     "metadata": {},
     "output_type": "execute_result"
    }
   ],
   "source": [
    "len(X.keys())"
   ]
  },
  {
   "cell_type": "code",
   "execution_count": 8,
   "id": "a31a2d93",
   "metadata": {},
   "outputs": [
    {
     "data": {
      "text/html": [
       "<div>\n",
       "<style scoped>\n",
       "    .dataframe tbody tr th:only-of-type {\n",
       "        vertical-align: middle;\n",
       "    }\n",
       "\n",
       "    .dataframe tbody tr th {\n",
       "        vertical-align: top;\n",
       "    }\n",
       "\n",
       "    .dataframe thead th {\n",
       "        text-align: right;\n",
       "    }\n",
       "</style>\n",
       "<table border=\"1\" class=\"dataframe\">\n",
       "  <thead>\n",
       "    <tr style=\"text-align: right;\">\n",
       "      <th></th>\n",
       "      <th>PC1</th>\n",
       "      <th>PC2</th>\n",
       "      <th>PC3</th>\n",
       "      <th>PC4</th>\n",
       "      <th>PC5</th>\n",
       "      <th>PC6</th>\n",
       "      <th>PC7</th>\n",
       "      <th>PC8</th>\n",
       "      <th>PC9</th>\n",
       "      <th>PC10</th>\n",
       "      <th>PC11</th>\n",
       "      <th>PC12</th>\n",
       "      <th>PC13</th>\n",
       "    </tr>\n",
       "  </thead>\n",
       "  <tbody>\n",
       "    <tr>\n",
       "      <th>0</th>\n",
       "      <td>-2.375111</td>\n",
       "      <td>1.858058</td>\n",
       "      <td>2.789762</td>\n",
       "      <td>0.099758</td>\n",
       "      <td>-1.382388</td>\n",
       "      <td>0.373647</td>\n",
       "      <td>1.788786</td>\n",
       "      <td>-0.024894</td>\n",
       "      <td>0.175938</td>\n",
       "      <td>-0.250550</td>\n",
       "      <td>0.145763</td>\n",
       "      <td>-0.067212</td>\n",
       "      <td>-4.844553e-15</td>\n",
       "    </tr>\n",
       "    <tr>\n",
       "      <th>1</th>\n",
       "      <td>2.617723</td>\n",
       "      <td>2.714887</td>\n",
       "      <td>2.781672</td>\n",
       "      <td>0.104062</td>\n",
       "      <td>-1.572170</td>\n",
       "      <td>0.445566</td>\n",
       "      <td>1.594817</td>\n",
       "      <td>-0.484008</td>\n",
       "      <td>-0.354827</td>\n",
       "      <td>0.039535</td>\n",
       "      <td>-0.027019</td>\n",
       "      <td>0.266951</td>\n",
       "      <td>-4.844553e-15</td>\n",
       "    </tr>\n",
       "    <tr>\n",
       "      <th>2</th>\n",
       "      <td>-2.257997</td>\n",
       "      <td>1.938945</td>\n",
       "      <td>2.938880</td>\n",
       "      <td>0.216968</td>\n",
       "      <td>-0.472146</td>\n",
       "      <td>0.173484</td>\n",
       "      <td>1.796909</td>\n",
       "      <td>0.459729</td>\n",
       "      <td>0.099150</td>\n",
       "      <td>-0.033039</td>\n",
       "      <td>0.104118</td>\n",
       "      <td>-0.048443</td>\n",
       "      <td>-4.289441e-15</td>\n",
       "    </tr>\n",
       "    <tr>\n",
       "      <th>3</th>\n",
       "      <td>-2.210764</td>\n",
       "      <td>2.030104</td>\n",
       "      <td>2.689386</td>\n",
       "      <td>0.237120</td>\n",
       "      <td>0.216221</td>\n",
       "      <td>0.005836</td>\n",
       "      <td>1.503468</td>\n",
       "      <td>0.155376</td>\n",
       "      <td>0.056837</td>\n",
       "      <td>-0.034649</td>\n",
       "      <td>0.077560</td>\n",
       "      <td>-0.038663</td>\n",
       "      <td>-4.178419e-15</td>\n",
       "    </tr>\n",
       "    <tr>\n",
       "      <th>4</th>\n",
       "      <td>-2.073292</td>\n",
       "      <td>2.149514</td>\n",
       "      <td>2.420998</td>\n",
       "      <td>0.262479</td>\n",
       "      <td>0.953494</td>\n",
       "      <td>-0.171632</td>\n",
       "      <td>1.202670</td>\n",
       "      <td>-0.152623</td>\n",
       "      <td>-0.101422</td>\n",
       "      <td>0.177669</td>\n",
       "      <td>0.009693</td>\n",
       "      <td>0.009757</td>\n",
       "      <td>-3.734330e-15</td>\n",
       "    </tr>\n",
       "    <tr>\n",
       "      <th>...</th>\n",
       "      <td>...</td>\n",
       "      <td>...</td>\n",
       "      <td>...</td>\n",
       "      <td>...</td>\n",
       "      <td>...</td>\n",
       "      <td>...</td>\n",
       "      <td>...</td>\n",
       "      <td>...</td>\n",
       "      <td>...</td>\n",
       "      <td>...</td>\n",
       "      <td>...</td>\n",
       "      <td>...</td>\n",
       "      <td>...</td>\n",
       "    </tr>\n",
       "    <tr>\n",
       "      <th>20635</th>\n",
       "      <td>-1.154527</td>\n",
       "      <td>2.099671</td>\n",
       "      <td>-1.584531</td>\n",
       "      <td>-0.564314</td>\n",
       "      <td>0.335252</td>\n",
       "      <td>-0.097306</td>\n",
       "      <td>-0.718325</td>\n",
       "      <td>0.055053</td>\n",
       "      <td>-0.122448</td>\n",
       "      <td>0.099142</td>\n",
       "      <td>0.395915</td>\n",
       "      <td>0.137862</td>\n",
       "      <td>1.122896e-15</td>\n",
       "    </tr>\n",
       "    <tr>\n",
       "      <th>20636</th>\n",
       "      <td>-1.961548</td>\n",
       "      <td>1.937474</td>\n",
       "      <td>-1.691384</td>\n",
       "      <td>-0.673679</td>\n",
       "      <td>-0.509235</td>\n",
       "      <td>0.085962</td>\n",
       "      <td>-0.694854</td>\n",
       "      <td>-0.281484</td>\n",
       "      <td>-0.018039</td>\n",
       "      <td>0.067396</td>\n",
       "      <td>0.374592</td>\n",
       "      <td>0.090721</td>\n",
       "      <td>9.008516e-16</td>\n",
       "    </tr>\n",
       "    <tr>\n",
       "      <th>20637</th>\n",
       "      <td>-0.559456</td>\n",
       "      <td>2.212189</td>\n",
       "      <td>-1.701540</td>\n",
       "      <td>-0.615767</td>\n",
       "      <td>0.011015</td>\n",
       "      <td>-0.025403</td>\n",
       "      <td>-0.828813</td>\n",
       "      <td>-0.308924</td>\n",
       "      <td>-0.200370</td>\n",
       "      <td>0.077075</td>\n",
       "      <td>0.320970</td>\n",
       "      <td>0.138308</td>\n",
       "      <td>1.122896e-15</td>\n",
       "    </tr>\n",
       "    <tr>\n",
       "      <th>20638</th>\n",
       "      <td>-0.969095</td>\n",
       "      <td>2.162271</td>\n",
       "      <td>-1.677224</td>\n",
       "      <td>-0.624498</td>\n",
       "      <td>-0.084631</td>\n",
       "      <td>-0.005064</td>\n",
       "      <td>-0.808155</td>\n",
       "      <td>-0.270878</td>\n",
       "      <td>-0.238012</td>\n",
       "      <td>0.069520</td>\n",
       "      <td>0.294299</td>\n",
       "      <td>0.108453</td>\n",
       "      <td>1.122896e-15</td>\n",
       "    </tr>\n",
       "    <tr>\n",
       "      <th>20639</th>\n",
       "      <td>0.026017</td>\n",
       "      <td>2.263485</td>\n",
       "      <td>-1.557930</td>\n",
       "      <td>-0.608931</td>\n",
       "      <td>-0.213548</td>\n",
       "      <td>0.034351</td>\n",
       "      <td>-0.715289</td>\n",
       "      <td>-0.164151</td>\n",
       "      <td>-0.120661</td>\n",
       "      <td>-0.005194</td>\n",
       "      <td>0.336894</td>\n",
       "      <td>0.066704</td>\n",
       "      <td>7.898293e-16</td>\n",
       "    </tr>\n",
       "  </tbody>\n",
       "</table>\n",
       "<p>20640 rows × 13 columns</p>\n",
       "</div>"
      ],
      "text/plain": [
       "            PC1       PC2       PC3       PC4       PC5       PC6       PC7  \\\n",
       "0     -2.375111  1.858058  2.789762  0.099758 -1.382388  0.373647  1.788786   \n",
       "1      2.617723  2.714887  2.781672  0.104062 -1.572170  0.445566  1.594817   \n",
       "2     -2.257997  1.938945  2.938880  0.216968 -0.472146  0.173484  1.796909   \n",
       "3     -2.210764  2.030104  2.689386  0.237120  0.216221  0.005836  1.503468   \n",
       "4     -2.073292  2.149514  2.420998  0.262479  0.953494 -0.171632  1.202670   \n",
       "...         ...       ...       ...       ...       ...       ...       ...   \n",
       "20635 -1.154527  2.099671 -1.584531 -0.564314  0.335252 -0.097306 -0.718325   \n",
       "20636 -1.961548  1.937474 -1.691384 -0.673679 -0.509235  0.085962 -0.694854   \n",
       "20637 -0.559456  2.212189 -1.701540 -0.615767  0.011015 -0.025403 -0.828813   \n",
       "20638 -0.969095  2.162271 -1.677224 -0.624498 -0.084631 -0.005064 -0.808155   \n",
       "20639  0.026017  2.263485 -1.557930 -0.608931 -0.213548  0.034351 -0.715289   \n",
       "\n",
       "            PC8       PC9      PC10      PC11      PC12          PC13  \n",
       "0     -0.024894  0.175938 -0.250550  0.145763 -0.067212 -4.844553e-15  \n",
       "1     -0.484008 -0.354827  0.039535 -0.027019  0.266951 -4.844553e-15  \n",
       "2      0.459729  0.099150 -0.033039  0.104118 -0.048443 -4.289441e-15  \n",
       "3      0.155376  0.056837 -0.034649  0.077560 -0.038663 -4.178419e-15  \n",
       "4     -0.152623 -0.101422  0.177669  0.009693  0.009757 -3.734330e-15  \n",
       "...         ...       ...       ...       ...       ...           ...  \n",
       "20635  0.055053 -0.122448  0.099142  0.395915  0.137862  1.122896e-15  \n",
       "20636 -0.281484 -0.018039  0.067396  0.374592  0.090721  9.008516e-16  \n",
       "20637 -0.308924 -0.200370  0.077075  0.320970  0.138308  1.122896e-15  \n",
       "20638 -0.270878 -0.238012  0.069520  0.294299  0.108453  1.122896e-15  \n",
       "20639 -0.164151 -0.120661 -0.005194  0.336894  0.066704  7.898293e-16  \n",
       "\n",
       "[20640 rows x 13 columns]"
      ]
     },
     "execution_count": 8,
     "metadata": {},
     "output_type": "execute_result"
    }
   ],
   "source": [
    "X_pca = pipeline.transform(X)\n",
    "x_componentes = pd.DataFrame(X_pca, columns=[f'PC{i+1}' for i in range(X.shape[1])])\n",
    "x_componentes"
   ]
  },
  {
   "cell_type": "code",
   "execution_count": 9,
   "id": "6a2c4d62",
   "metadata": {},
   "outputs": [
    {
     "data": {
      "text/plain": [
       "Text(0, 0.5, 'Componente2')"
      ]
     },
     "execution_count": 9,
     "metadata": {},
     "output_type": "execute_result"
    },
    {
     "data": {
      "image/png": "[encoded data removed]",
      "text/plain": [
       "<Figure size 640x480 with 1 Axes>"
      ]
     },
     "metadata": {},
     "output_type": "display_data"
    }
   ],
   "source": [
    "plt.scatter(x_componentes['PC1'], x_componentes['PC2'])\n",
    "plt.xlabel(\"Componente1\")\n",
    "plt.ylabel(\"Componente2\")"
   ]
  },
  {
   "cell_type": "markdown",
   "id": "7389dec7-2bfd-4c1d-b10a-2ca855ed92ea",
   "metadata": {},
   "source": [
    "### Varianza explicada\n",
    "\n",
    "Si la primera componente principal se obtiene con el eigenvalor que máximiza la varianza.\n",
    "\n",
    "La varianza explicada por cada componente principal \n",
    "\n",
    "$$varianza_i = \\frac{Eigenvalor_i}{\\Sigma{Eigenvalores}}$$\n"
   ]
  },
  {
   "cell_type": "code",
   "execution_count": 10,
   "id": "7bed79dd-56c9-4691-ae2f-90308a8e5226",
   "metadata": {},
   "outputs": [
    {
     "data": {
      "text/plain": [
       "0.30154289877695245"
      ]
     },
     "execution_count": 10,
     "metadata": {},
     "output_type": "execute_result"
    }
   ],
   "source": [
    "objeto_pca.explained_variance_ratio_[0]"
   ]
  },
  {
   "cell_type": "code",
   "execution_count": 11,
   "id": "f8395432",
   "metadata": {},
   "outputs": [
    {
     "data": {
      "text/plain": [
       "0.1973865652732001"
      ]
     },
     "execution_count": 11,
     "metadata": {},
     "output_type": "execute_result"
    }
   ],
   "source": [
    "objeto_pca.explained_variance_ratio_[1]"
   ]
  },
  {
   "cell_type": "code",
   "execution_count": 14,
   "id": "0feae2b8",
   "metadata": {},
   "outputs": [
    {
     "data": {
      "text/plain": [
       "[<matplotlib.lines.Line2D at 0x15fb0cd70>]"
      ]
     },
     "execution_count": 14,
     "metadata": {},
     "output_type": "execute_result"
    },
    {
     "data": {
      "image/png": "[encoded data removed]",
      "text/plain": [
       "<Figure size 640x480 with 1 Axes>"
      ]
     },
     "metadata": {},
     "output_type": "display_data"
    }
   ],
   "source": [
    "plt.plot(objeto_pca.explained_variance_ratio_, marker=\"o\")"
   ]
  },
  {
   "cell_type": "markdown",
   "id": "4b121ee6-0b2b-4961-a9f2-5801df7410ee",
   "metadata": {},
   "source": [
    "### Entendiendo primera componente"
   ]
  },
  {
   "cell_type": "code",
   "execution_count": 15,
   "id": "a1d91a1b-2f71-4e42-acc9-28f9488fb5a3",
   "metadata": {},
   "outputs": [
    {
     "data": {
      "text/html": [
       "<div>\n",
       "<style scoped>\n",
       "    .dataframe tbody tr th:only-of-type {\n",
       "        vertical-align: middle;\n",
       "    }\n",
       "\n",
       "    .dataframe tbody tr th {\n",
       "        vertical-align: top;\n",
       "    }\n",
       "\n",
       "    .dataframe thead th {\n",
       "        text-align: right;\n",
       "    }\n",
       "</style>\n",
       "<table border=\"1\" class=\"dataframe\">\n",
       "  <thead>\n",
       "    <tr style=\"text-align: right;\">\n",
       "      <th></th>\n",
       "      <th>features</th>\n",
       "      <th>pesos</th>\n",
       "    </tr>\n",
       "  </thead>\n",
       "  <tbody>\n",
       "    <tr>\n",
       "      <th>0</th>\n",
       "      <td>longitude</td>\n",
       "      <td>0.101538</td>\n",
       "    </tr>\n",
       "    <tr>\n",
       "      <th>1</th>\n",
       "      <td>latitude</td>\n",
       "      <td>-0.099569</td>\n",
       "    </tr>\n",
       "    <tr>\n",
       "      <th>2</th>\n",
       "      <td>housing_median_age</td>\n",
       "      <td>-0.220563</td>\n",
       "    </tr>\n",
       "    <tr>\n",
       "      <th>3</th>\n",
       "      <td>total_rooms</td>\n",
       "      <td>0.478316</td>\n",
       "    </tr>\n",
       "    <tr>\n",
       "      <th>4</th>\n",
       "      <td>total_bedrooms</td>\n",
       "      <td>0.484269</td>\n",
       "    </tr>\n",
       "    <tr>\n",
       "      <th>5</th>\n",
       "      <td>population</td>\n",
       "      <td>0.469222</td>\n",
       "    </tr>\n",
       "    <tr>\n",
       "      <th>6</th>\n",
       "      <td>households</td>\n",
       "      <td>0.486598</td>\n",
       "    </tr>\n",
       "    <tr>\n",
       "      <th>7</th>\n",
       "      <td>median_income</td>\n",
       "      <td>0.048330</td>\n",
       "    </tr>\n",
       "    <tr>\n",
       "      <th>8</th>\n",
       "      <td>ocean_proximity_1H OCEAN</td>\n",
       "      <td>0.057847</td>\n",
       "    </tr>\n",
       "    <tr>\n",
       "      <th>9</th>\n",
       "      <td>ocean_proximity_INLAND</td>\n",
       "      <td>-0.012784</td>\n",
       "    </tr>\n",
       "    <tr>\n",
       "      <th>10</th>\n",
       "      <td>ocean_proximity_ISLAND</td>\n",
       "      <td>-0.005786</td>\n",
       "    </tr>\n",
       "    <tr>\n",
       "      <th>11</th>\n",
       "      <td>ocean_proximity_NEAR BAY</td>\n",
       "      <td>-0.070697</td>\n",
       "    </tr>\n",
       "    <tr>\n",
       "      <th>12</th>\n",
       "      <td>ocean_proximity_NEAR OCEAN</td>\n",
       "      <td>-0.001458</td>\n",
       "    </tr>\n",
       "  </tbody>\n",
       "</table>\n",
       "</div>"
      ],
      "text/plain": [
       "                      features     pesos\n",
       "0                    longitude  0.101538\n",
       "1                     latitude -0.099569\n",
       "2           housing_median_age -0.220563\n",
       "3                  total_rooms  0.478316\n",
       "4               total_bedrooms  0.484269\n",
       "5                   population  0.469222\n",
       "6                   households  0.486598\n",
       "7                median_income  0.048330\n",
       "8     ocean_proximity_1H OCEAN  0.057847\n",
       "9       ocean_proximity_INLAND -0.012784\n",
       "10      ocean_proximity_ISLAND -0.005786\n",
       "11    ocean_proximity_NEAR BAY -0.070697\n",
       "12  ocean_proximity_NEAR OCEAN -0.001458"
      ]
     },
     "execution_count": 15,
     "metadata": {},
     "output_type": "execute_result"
    }
   ],
   "source": [
    "componente1 = pd.DataFrame({\n",
    "    'features': X.keys(),\n",
    "    'pesos': objeto_pca.components_[0]\n",
    "})\n",
    "componente1"
   ]
  },
  {
   "cell_type": "code",
   "execution_count": 16,
   "id": "e814ad66-b302-4072-abc6-c8ed1a7b7865",
   "metadata": {},
   "outputs": [
    {
     "data": {
      "text/html": [
       "<div>\n",
       "<style scoped>\n",
       "    .dataframe tbody tr th:only-of-type {\n",
       "        vertical-align: middle;\n",
       "    }\n",
       "\n",
       "    .dataframe tbody tr th {\n",
       "        vertical-align: top;\n",
       "    }\n",
       "\n",
       "    .dataframe thead th {\n",
       "        text-align: right;\n",
       "    }\n",
       "</style>\n",
       "<table border=\"1\" class=\"dataframe\">\n",
       "  <thead>\n",
       "    <tr style=\"text-align: right;\">\n",
       "      <th></th>\n",
       "      <th>features</th>\n",
       "      <th>pesos</th>\n",
       "    </tr>\n",
       "  </thead>\n",
       "  <tbody>\n",
       "    <tr>\n",
       "      <th>0</th>\n",
       "      <td>longitude</td>\n",
       "      <td>-0.515239</td>\n",
       "    </tr>\n",
       "    <tr>\n",
       "      <th>1</th>\n",
       "      <td>latitude</td>\n",
       "      <td>0.563595</td>\n",
       "    </tr>\n",
       "    <tr>\n",
       "      <th>2</th>\n",
       "      <td>housing_median_age</td>\n",
       "      <td>-0.026872</td>\n",
       "    </tr>\n",
       "    <tr>\n",
       "      <th>3</th>\n",
       "      <td>total_rooms</td>\n",
       "      <td>0.100905</td>\n",
       "    </tr>\n",
       "    <tr>\n",
       "      <th>4</th>\n",
       "      <td>total_bedrooms</td>\n",
       "      <td>0.090788</td>\n",
       "    </tr>\n",
       "    <tr>\n",
       "      <th>5</th>\n",
       "      <td>population</td>\n",
       "      <td>0.052088</td>\n",
       "    </tr>\n",
       "    <tr>\n",
       "      <th>6</th>\n",
       "      <td>households</td>\n",
       "      <td>0.085387</td>\n",
       "    </tr>\n",
       "    <tr>\n",
       "      <th>7</th>\n",
       "      <td>median_income</td>\n",
       "      <td>-0.088896</td>\n",
       "    </tr>\n",
       "    <tr>\n",
       "      <th>8</th>\n",
       "      <td>ocean_proximity_1H OCEAN</td>\n",
       "      <td>-0.435594</td>\n",
       "    </tr>\n",
       "    <tr>\n",
       "      <th>9</th>\n",
       "      <td>ocean_proximity_INLAND</td>\n",
       "      <td>0.290002</td>\n",
       "    </tr>\n",
       "    <tr>\n",
       "      <th>10</th>\n",
       "      <td>ocean_proximity_ISLAND</td>\n",
       "      <td>-0.009436</td>\n",
       "    </tr>\n",
       "    <tr>\n",
       "      <th>11</th>\n",
       "      <td>ocean_proximity_NEAR BAY</td>\n",
       "      <td>0.320393</td>\n",
       "    </tr>\n",
       "    <tr>\n",
       "      <th>12</th>\n",
       "      <td>ocean_proximity_NEAR OCEAN</td>\n",
       "      <td>-0.057037</td>\n",
       "    </tr>\n",
       "  </tbody>\n",
       "</table>\n",
       "</div>"
      ],
      "text/plain": [
       "                      features     pesos\n",
       "0                    longitude -0.515239\n",
       "1                     latitude  0.563595\n",
       "2           housing_median_age -0.026872\n",
       "3                  total_rooms  0.100905\n",
       "4               total_bedrooms  0.090788\n",
       "5                   population  0.052088\n",
       "6                   households  0.085387\n",
       "7                median_income -0.088896\n",
       "8     ocean_proximity_1H OCEAN -0.435594\n",
       "9       ocean_proximity_INLAND  0.290002\n",
       "10      ocean_proximity_ISLAND -0.009436\n",
       "11    ocean_proximity_NEAR BAY  0.320393\n",
       "12  ocean_proximity_NEAR OCEAN -0.057037"
      ]
     },
     "execution_count": 16,
     "metadata": {},
     "output_type": "execute_result"
    }
   ],
   "source": [
    "componente2 = pd.DataFrame({\n",
    "    'features': X.keys(),\n",
    "    'pesos': objeto_pca.components_[1]\n",
    "})\n",
    "componente2"
   ]
  },
  {
   "cell_type": "markdown",
   "id": "d471f0db-7f7b-44a9-8a73-fc3a99732c02",
   "metadata": {},
   "source": [
    "### Entendiendo segunda componente"
   ]
  },
  {
   "cell_type": "code",
   "execution_count": null,
   "id": "95bfbe5e-d126-4bb7-8b41-406b72502a97",
   "metadata": {},
   "outputs": [],
   "source": []
  },
  {
   "cell_type": "code",
   "execution_count": null,
   "id": "4b60f07c-a1e4-4fac-926c-c4f4a6133167",
   "metadata": {},
   "outputs": [],
   "source": []
  },
  {
   "cell_type": "markdown",
   "id": "b7f88c76-a6df-4755-a272-90dbda10e7b1",
   "metadata": {},
   "source": [
    "### Obtener las componentes principales\n",
    "\n",
    "pd.DataFrame(X_pca, columns=[f'PC{i+1}' for i in range(X_pca.shape[1])])"
   ]
  },
  {
   "cell_type": "code",
   "execution_count": 114,
   "id": "5f3f0204-94d7-4ee4-9330-63c3bb531a6d",
   "metadata": {},
   "outputs": [],
   "source": [
    "\n",
    "# Transformar los datos\n",
    "\n",
    "# Crear DataFrame con nombres de columnas\n"
   ]
  },
  {
   "cell_type": "code",
   "execution_count": null,
   "id": "fc528f10-fd98-4a15-a68e-bd35a625a383",
   "metadata": {},
   "outputs": [],
   "source": []
  },
  {
   "cell_type": "markdown",
   "id": "861ac17f-3ca1-446a-b79b-b79e7046ac8a",
   "metadata": {},
   "source": [
    "### Visualizar componentes principales"
   ]
  },
  {
   "cell_type": "code",
   "execution_count": null,
   "id": "5f4907fe-c147-4fd2-807e-29363d46a3f5",
   "metadata": {},
   "outputs": [],
   "source": []
  },
  {
   "cell_type": "code",
   "execution_count": null,
   "id": "a02e226d-9e86-4fc6-b922-2cfa21db028b",
   "metadata": {},
   "outputs": [],
   "source": []
  },
  {
   "cell_type": "markdown",
   "id": "27c7d040-cbb3-4997-a95e-faa7ccb0fddc",
   "metadata": {},
   "source": [
    "## Modelos de datos\n",
    "\n",
    "### Primero con todos los features"
   ]
  },
  {
   "cell_type": "code",
   "execution_count": 19,
   "id": "4ffc97bb-e6e2-4755-976d-ae7cee5527c5",
   "metadata": {},
   "outputs": [
    {
     "data": {
      "text/plain": [
       "0.9310218522655087"
      ]
     },
     "execution_count": 19,
     "metadata": {},
     "output_type": "execute_result"
    }
   ],
   "source": [
    "from xgboost import XGBRegressor\n",
    "from sklearn.metrics import r2_score\n",
    "\n",
    "model = XGBRegressor().fit(X, y)\n",
    "predicciones = model.predict(X)\n",
    "r2_score(y, predicciones)\n",
    "\n"
   ]
  },
  {
   "cell_type": "markdown",
   "id": "cddfd0fa-a4e4-4a91-be1d-752943d34bea",
   "metadata": {},
   "source": [
    "### Ahora con las componentes principales"
   ]
  },
  {
   "cell_type": "code",
   "execution_count": 20,
   "id": "65f8fd65-0fa3-4272-a3e4-f544f98d5a17",
   "metadata": {},
   "outputs": [
    {
     "data": {
      "text/plain": [
       "0.3312680277358444"
      ]
     },
     "execution_count": 20,
     "metadata": {},
     "output_type": "execute_result"
    }
   ],
   "source": [
    "x_pc12 = x_componentes[['PC1', 'PC2']]\n",
    "\n",
    "model = XGBRegressor().fit(x_pc12, y)\n",
    "predicciones = model.predict(x_pc12)\n",
    "r2_score(y_pred=predicciones, y_true=y)"
   ]
  },
  {
   "cell_type": "markdown",
   "id": "672411e2-006a-4deb-9c19-3ea90cf160cc",
   "metadata": {},
   "source": [
    "### Ahora solo con las primeras 3 componentes"
   ]
  },
  {
   "cell_type": "code",
   "execution_count": 23,
   "id": "2ce81c4e-bf66-411f-b822-8b026abbcb79",
   "metadata": {},
   "outputs": [
    {
     "name": "stdout",
     "output_type": "stream",
     "text": [
      "R2: 0.9082\n"
     ]
    }
   ],
   "source": [
    "model = XGBRegressor().fit(x_componentes, y)\n",
    "predicciones = model.predict(x_componentes)\n",
    "r2 = r2_score(y, predicciones)\n",
    "print(f\"R2: {r2:.4f}\")"
   ]
  },
  {
   "cell_type": "code",
   "execution_count": 24,
   "id": "8d1c97df-1fc8-4e95-be85-31b5ddd2a9ae",
   "metadata": {},
   "outputs": [
    {
     "data": {
      "text/html": [
       "<div>\n",
       "<style scoped>\n",
       "    .dataframe tbody tr th:only-of-type {\n",
       "        vertical-align: middle;\n",
       "    }\n",
       "\n",
       "    .dataframe tbody tr th {\n",
       "        vertical-align: top;\n",
       "    }\n",
       "\n",
       "    .dataframe thead th {\n",
       "        text-align: right;\n",
       "    }\n",
       "</style>\n",
       "<table border=\"1\" class=\"dataframe\">\n",
       "  <thead>\n",
       "    <tr style=\"text-align: right;\">\n",
       "      <th></th>\n",
       "      <th>features</th>\n",
       "      <th>importancia</th>\n",
       "    </tr>\n",
       "  </thead>\n",
       "  <tbody>\n",
       "    <tr>\n",
       "      <th>0</th>\n",
       "      <td>PC1</td>\n",
       "      <td>0.008646</td>\n",
       "    </tr>\n",
       "    <tr>\n",
       "      <th>1</th>\n",
       "      <td>PC2</td>\n",
       "      <td>0.018020</td>\n",
       "    </tr>\n",
       "    <tr>\n",
       "      <th>2</th>\n",
       "      <td>PC3</td>\n",
       "      <td>0.257811</td>\n",
       "    </tr>\n",
       "    <tr>\n",
       "      <th>3</th>\n",
       "      <td>PC4</td>\n",
       "      <td>0.027332</td>\n",
       "    </tr>\n",
       "    <tr>\n",
       "      <th>4</th>\n",
       "      <td>PC5</td>\n",
       "      <td>0.043600</td>\n",
       "    </tr>\n",
       "    <tr>\n",
       "      <th>5</th>\n",
       "      <td>PC6</td>\n",
       "      <td>0.336416</td>\n",
       "    </tr>\n",
       "    <tr>\n",
       "      <th>6</th>\n",
       "      <td>PC7</td>\n",
       "      <td>0.070897</td>\n",
       "    </tr>\n",
       "    <tr>\n",
       "      <th>7</th>\n",
       "      <td>PC8</td>\n",
       "      <td>0.083134</td>\n",
       "    </tr>\n",
       "    <tr>\n",
       "      <th>8</th>\n",
       "      <td>PC9</td>\n",
       "      <td>0.055073</td>\n",
       "    </tr>\n",
       "    <tr>\n",
       "      <th>9</th>\n",
       "      <td>PC10</td>\n",
       "      <td>0.035811</td>\n",
       "    </tr>\n",
       "    <tr>\n",
       "      <th>10</th>\n",
       "      <td>PC11</td>\n",
       "      <td>0.031332</td>\n",
       "    </tr>\n",
       "    <tr>\n",
       "      <th>11</th>\n",
       "      <td>PC12</td>\n",
       "      <td>0.014248</td>\n",
       "    </tr>\n",
       "    <tr>\n",
       "      <th>12</th>\n",
       "      <td>PC13</td>\n",
       "      <td>0.017680</td>\n",
       "    </tr>\n",
       "  </tbody>\n",
       "</table>\n",
       "</div>"
      ],
      "text/plain": [
       "   features  importancia\n",
       "0       PC1     0.008646\n",
       "1       PC2     0.018020\n",
       "2       PC3     0.257811\n",
       "3       PC4     0.027332\n",
       "4       PC5     0.043600\n",
       "5       PC6     0.336416\n",
       "6       PC7     0.070897\n",
       "7       PC8     0.083134\n",
       "8       PC9     0.055073\n",
       "9      PC10     0.035811\n",
       "10     PC11     0.031332\n",
       "11     PC12     0.014248\n",
       "12     PC13     0.017680"
      ]
     },
     "execution_count": 24,
     "metadata": {},
     "output_type": "execute_result"
    }
   ],
   "source": [
    "importancias = pd.DataFrame({\n",
    "    'features': x_componentes.columns,\n",
    "    'importancia': model.feature_importances_\n",
    "})\n",
    "importancias"
   ]
  },
  {
   "cell_type": "markdown",
   "id": "d5bf4196-ff38-40f2-9616-212f89b5c997",
   "metadata": {},
   "source": [
    "### Conclusión: a medida que agregamos más componentes aumenta el poder predictivo pero se pierde el objetivo inicial que es tener menos dimensiones"
   ]
  },
  {
   "cell_type": "markdown",
   "id": "938c9bb7-9eba-4eb1-9e6d-8ac6e94b418f",
   "metadata": {},
   "source": [
    "### Clustering + PCA"
   ]
  },
  {
   "cell_type": "code",
   "execution_count": 25,
   "id": "f325a769-f06e-43e9-b4b6-ca4e9d6612eb",
   "metadata": {},
   "outputs": [
    {
     "name": "stderr",
     "output_type": "stream",
     "text": [
      "/opt/anaconda3/lib/python3.12/site-packages/sklearn/cluster/_kmeans.py:870: FutureWarning: The default value of `n_init` will change from 10 to 'auto' in 1.4. Set the value of `n_init` explicitly to suppress the warning\n",
      "  warnings.warn(\n"
     ]
    },
    {
     "data": {
      "text/html": [
       "<style>#sk-container-id-2 {color: black;background-color: white;}#sk-container-id-2 pre{padding: 0;}#sk-container-id-2 div.sk-toggleable {background-color: white;}#sk-container-id-2 label.sk-toggleable__label {cursor: pointer;display: block;width: 100%;margin-bottom: 0;padding: 0.3em;box-sizing: border-box;text-align: center;}#sk-container-id-2 label.sk-toggleable__label-arrow:before {content: \"▸\";float: left;margin-right: 0.25em;color: #696969;}#sk-container-id-2 label.sk-toggleable__label-arrow:hover:before {color: black;}#sk-container-id-2 div.sk-estimator:hover label.sk-toggleable__label-arrow:before {color: black;}#sk-container-id-2 div.sk-toggleable__content {max-height: 0;max-width: 0;overflow: hidden;text-align: left;background-color: #f0f8ff;}#sk-container-id-2 div.sk-toggleable__content pre {margin: 0.2em;color: black;border-radius: 0.25em;background-color: #f0f8ff;}#sk-container-id-2 input.sk-toggleable__control:checked~div.sk-toggleable__content {max-height: 200px;max-width: 100%;overflow: auto;}#sk-container-id-2 input.sk-toggleable__control:checked~label.sk-toggleable__label-arrow:before {content: \"▾\";}#sk-container-id-2 div.sk-estimator input.sk-toggleable__control:checked~label.sk-toggleable__label {background-color: #d4ebff;}#sk-container-id-2 div.sk-label input.sk-toggleable__control:checked~label.sk-toggleable__label {background-color: #d4ebff;}#sk-container-id-2 input.sk-hidden--visually {border: 0;clip: rect(1px 1px 1px 1px);clip: rect(1px, 1px, 1px, 1px);height: 1px;margin: -1px;overflow: hidden;padding: 0;position: absolute;width: 1px;}#sk-container-id-2 div.sk-estimator {font-family: monospace;background-color: #f0f8ff;border: 1px dotted black;border-radius: 0.25em;box-sizing: border-box;margin-bottom: 0.5em;}#sk-container-id-2 div.sk-estimator:hover {background-color: #d4ebff;}#sk-container-id-2 div.sk-parallel-item::after {content: \"\";width: 100%;border-bottom: 1px solid gray;flex-grow: 1;}#sk-container-id-2 div.sk-label:hover label.sk-toggleable__label {background-color: #d4ebff;}#sk-container-id-2 div.sk-serial::before {content: \"\";position: absolute;border-left: 1px solid gray;box-sizing: border-box;top: 0;bottom: 0;left: 50%;z-index: 0;}#sk-container-id-2 div.sk-serial {display: flex;flex-direction: column;align-items: center;background-color: white;padding-right: 0.2em;padding-left: 0.2em;position: relative;}#sk-container-id-2 div.sk-item {position: relative;z-index: 1;}#sk-container-id-2 div.sk-parallel {display: flex;align-items: stretch;justify-content: center;background-color: white;position: relative;}#sk-container-id-2 div.sk-item::before, #sk-container-id-2 div.sk-parallel-item::before {content: \"\";position: absolute;border-left: 1px solid gray;box-sizing: border-box;top: 0;bottom: 0;left: 50%;z-index: -1;}#sk-container-id-2 div.sk-parallel-item {display: flex;flex-direction: column;z-index: 1;position: relative;background-color: white;}#sk-container-id-2 div.sk-parallel-item:first-child::after {align-self: flex-end;width: 50%;}#sk-container-id-2 div.sk-parallel-item:last-child::after {align-self: flex-start;width: 50%;}#sk-container-id-2 div.sk-parallel-item:only-child::after {width: 0;}#sk-container-id-2 div.sk-dashed-wrapped {border: 1px dashed gray;margin: 0 0.4em 0.5em 0.4em;box-sizing: border-box;padding-bottom: 0.4em;background-color: white;}#sk-container-id-2 div.sk-label label {font-family: monospace;font-weight: bold;display: inline-block;line-height: 1.2em;}#sk-container-id-2 div.sk-label-container {text-align: center;}#sk-container-id-2 div.sk-container {/* jupyter's `normalize.less` sets `[hidden] { display: none; }` but bootstrap.min.css set `[hidden] { display: none !important; }` so we also need the `!important` here to be able to override the default hidden behavior on the sphinx rendered scikit-learn.org. See: https://github.com/scikit-learn/scikit-learn/issues/21755 */display: inline-block !important;position: relative;}#sk-container-id-2 div.sk-text-repr-fallback {display: none;}</style><div id=\"sk-container-id-2\" class=\"sk-top-container\"><div class=\"sk-text-repr-fallback\"><pre>Pipeline(steps=[(&#x27;scaler&#x27;, StandardScaler()),\n",
       "                (&#x27;kmeans&#x27;, KMeans(n_clusters=3, random_state=42))])</pre><b>In a Jupyter environment, please rerun this cell to show the HTML representation or trust the notebook. <br />On GitHub, the HTML representation is unable to render, please try loading this page with nbviewer.org.</b></div><div class=\"sk-container\" hidden><div class=\"sk-item sk-dashed-wrapped\"><div class=\"sk-label-container\"><div class=\"sk-label sk-toggleable\"><input class=\"sk-toggleable__control sk-hidden--visually\" id=\"sk-estimator-id-4\" type=\"checkbox\" ><label for=\"sk-estimator-id-4\" class=\"sk-toggleable__label sk-toggleable__label-arrow\">Pipeline</label><div class=\"sk-toggleable__content\"><pre>Pipeline(steps=[(&#x27;scaler&#x27;, StandardScaler()),\n",
       "                (&#x27;kmeans&#x27;, KMeans(n_clusters=3, random_state=42))])</pre></div></div></div><div class=\"sk-serial\"><div class=\"sk-item\"><div class=\"sk-estimator sk-toggleable\"><input class=\"sk-toggleable__control sk-hidden--visually\" id=\"sk-estimator-id-5\" type=\"checkbox\" ><label for=\"sk-estimator-id-5\" class=\"sk-toggleable__label sk-toggleable__label-arrow\">StandardScaler</label><div class=\"sk-toggleable__content\"><pre>StandardScaler()</pre></div></div></div><div class=\"sk-item\"><div class=\"sk-estimator sk-toggleable\"><input class=\"sk-toggleable__control sk-hidden--visually\" id=\"sk-estimator-id-6\" type=\"checkbox\" ><label for=\"sk-estimator-id-6\" class=\"sk-toggleable__label sk-toggleable__label-arrow\">KMeans</label><div class=\"sk-toggleable__content\"><pre>KMeans(n_clusters=3, random_state=42)</pre></div></div></div></div></div></div></div>"
      ],
      "text/plain": [
       "Pipeline(steps=[('scaler', StandardScaler()),\n",
       "                ('kmeans', KMeans(n_clusters=3, random_state=42))])"
      ]
     },
     "execution_count": 25,
     "metadata": {},
     "output_type": "execute_result"
    }
   ],
   "source": [
    "from sklearn.cluster import KMeans\n",
    "\n",
    "pipeline = Pipeline([\n",
    "    ('scaler', StandardScaler()),\n",
    "    ('kmeans', KMeans(n_clusters=3, random_state=42))\n",
    "])\n",
    "pipeline.fit(X)\n"
   ]
  },
  {
   "cell_type": "code",
   "execution_count": 26,
   "id": "22940e32-0498-4941-9b94-e46d6ceb02e2",
   "metadata": {},
   "outputs": [],
   "source": [
    "x_componentes['cluster'] = pipeline.predict(X) + 1"
   ]
  },
  {
   "cell_type": "code",
   "execution_count": 27,
   "id": "d0fb1586-a4a7-4a83-8377-1c78ca11656d",
   "metadata": {},
   "outputs": [
    {
     "data": {
      "text/plain": [
       "Text(0, 0.5, 'Componente2')"
      ]
     },
     "execution_count": 27,
     "metadata": {},
     "output_type": "execute_result"
    },
    {
     "data": {
      "image/png": "[encoded data removed]",
      "text/plain": [
       "<Figure size 640x480 with 1 Axes>"
      ]
     },
     "metadata": {},
     "output_type": "display_data"
    }
   ],
   "source": [
    "plt.scatter(x_componentes['PC1'], x_componentes['PC2'], c=x_componentes['cluster'])\n",
    "plt.xlabel(\"Componente1\")\n",
    "plt.ylabel(\"Componente2\")"
   ]
  },
  {
   "cell_type": "code",
   "execution_count": null,
   "id": "62f76f65-c922-4236-aaaf-50d6d16e04b7",
   "metadata": {},
   "outputs": [],
   "source": []
  },
  {
   "cell_type": "code",
   "execution_count": null,
   "id": "efdb14e2-8590-43b4-aef6-c594c5fdea8a",
   "metadata": {},
   "outputs": [],
   "source": []
  }
 ],
 "metadata": {
  "kernelspec": {
   "display_name": "base",
   "language": "python",
   "name": "python3"
  },
  "language_info": {
   "codemirror_mode": {
    "name": "ipython",
    "version": 3
   },
   "file_extension": ".py",
   "mimetype": "text/x-python",
   "name": "python",
   "nbconvert_exporter": "python",
   "pygments_lexer": "ipython3",
   "version": "3.12.4"
  }
 },
 "nbformat": 4,
 "nbformat_minor": 5
}
